{
 "cells": [
  {
   "cell_type": "markdown",
   "id": "2165ed38",
   "metadata": {},
   "source": [
    "# Lab 4: Triangulation\n",
    "You will find the complete lab manual in this file. Some exercises require written answers, while others require coding.\n",
    "\n",
    "**Important:** Do **not** define functions directly in this notebook. Instead, save them in the `functions.py` file and call them from the code cells in this notebook.\n",
    "\n",
    "### Submission Requirements:\n",
    "Your final lab submission should include:\n",
    "1. Your edited **notebook file** (`.ipynb`).\n",
    "2. Your **`functions.py`** file containing all function definitions.\n",
    "3. A **HTML printout** of the executed notebook with all outputs visible: File → Save and export Notebook As → HTML\n",
    "\n",
    "First, we'll import a set of python packages you'll need for this lab."
   ]
  },
  {
   "cell_type": "code",
   "execution_count": 1,
   "id": "2573ba45",
   "metadata": {},
   "outputs": [],
   "source": [
    "# for creating responsive plots\n",
    "%matplotlib widget  \n",
    "\n",
    "from mpl_toolkits.mplot3d import Axes3D\n",
    "import matplotlib.pyplot as plt\n",
    "import numpy as np\n",
    "import scipy\n",
    "import matplotlib.image as mpimg"
   ]
  },
  {
   "cell_type": "markdown",
   "id": "063c5283",
   "metadata": {},
   "source": [
    "## Task 1: Triangulation using Ransac\n",
    "This whole lab is basically concerned with the camera equation\n",
    "$$ \\lambda u = PU $$\n",
    "For the uncalibrated case, $u$ is a 3-vector with the homogeneous coordinates of a point in the image\n",
    "$$ u = \\begin{bmatrix}\n",
    "x \\\\\n",
    "y \\\\\n",
    "1\n",
    "\\end{bmatrix}  $$\n",
    "and $U$ is a 4-vector containing the homogeneous coordinates of the corresponding 3D point. \n",
    "The function `triangulation_test_case` is provided for creating a simple test case where you know the correct answer (`U_true`). Gaussian noise of standard deviation `sigma` is added to the image points. Use this example to verify your implemented functions in this lab.\n"
   ]
  },
  {
   "cell_type": "code",
   "execution_count": 2,
   "id": "cdea5503",
   "metadata": {},
   "outputs": [
    {
     "name": "stdout",
     "output_type": "stream",
     "text": [
      "\n",
      "U_true:\n",
      " [[0.37454012]\n",
      " [0.95071431]\n",
      " [0.73199394]]\n"
     ]
    }
   ],
   "source": [
    "from supplied import triangulation_test_case\n",
    "\n",
    "sigma = 0.2\n",
    "Ps, us, U_true = triangulation_test_case(sigma)\n",
    "print(f\"\\nU_true:\\n {U_true}\")"
   ]
  },
  {
   "cell_type": "markdown",
   "id": "e04d9c35",
   "metadata": {},
   "source": [
    "### Task 1.1: \n",
    "Make a minimal solver for the triangulation problem, that is, a function `minimal_triangulation` that takes two camera matrices, `Ps`, and two image points, `us`, and triangulates a 3D point. The image points are in a 2 x n, where n = the number of points, numpy array whereas the camera matrices are in a list containing two numpy arrays. Place the function in your `functions.py` file."
   ]
  },
  {
   "cell_type": "code",
   "execution_count": 3,
   "id": "0177a46e",
   "metadata": {},
   "outputs": [],
   "source": [
    "def minimal_triangulation(Ps, us):\n",
    "    \"\"\"\n",
    "    Ps: list of two (3x4) camera projection matrices as numpy arrays\n",
    "    us: (2xn) numpy array of image coordinates, where each column corresponds to a point in one image\n",
    "    Returns: 3D point (3,) as a numpy array\n",
    "    \"\"\"\n",
    "\n",
    "    # Your code here\n",
    "\n",
    "    return U"
   ]
  },
  {
   "cell_type": "code",
   "execution_count": 4,
   "id": "3503a0cd-a9f1-4dd8-8456-d8ee28dab57e",
   "metadata": {},
   "outputs": [
    {
     "name": "stdout",
     "output_type": "stream",
     "text": [
      "\n",
      "U:\n",
      " [0.37404098 0.95064611 0.73447876]\n"
     ]
    }
   ],
   "source": [
    "from functions import minimal_triangulation\n",
    "\n",
    "U = minimal_triangulation(Ps, us)\n",
    "print(f\"\\nU:\\n {U}\")"
   ]
  },
  {
   "cell_type": "markdown",
   "id": "465fafde",
   "metadata": {},
   "source": [
    "### Task 1.2:\n",
    "Recall that $\\lambda$ is the *depth*. Points with negative depth would lie behind the camera, so negative depths indicate that something is wrong. Make a function `check_depths` that takes $N$ camera matrices, `Ps`, and a 3D point, `U`, and checks the depth of `U` in each of the cameras. The output should be a an array of boolean values of length $N$ that indicates which depths were positive. Place it in your `functions.py` file."
   ]
  },
  {
   "cell_type": "code",
   "execution_count": 5,
   "id": "23b484db",
   "metadata": {},
   "outputs": [],
   "source": [
    "def check_depths(Ps, U):\n",
    "    \"\"\"\n",
    "    Ps: list of camera matrices (each 3x4)\n",
    "    U: 3D point as a NumPy array of shape (3,)\n",
    "    \n",
    "    Returns: NumPy array of 0s and 1s indicating positive depth for each camera\n",
    "    \"\"\"\n",
    "\n",
    "    # Your code here\n",
    "\n",
    "    return positive"
   ]
  },
  {
   "cell_type": "code",
   "execution_count": 6,
   "id": "aff01a97-e683-467e-885f-91e32eac6468",
   "metadata": {},
   "outputs": [
    {
     "data": {
      "text/plain": [
       "array([ True,  True])"
      ]
     },
     "execution_count": 6,
     "metadata": {},
     "output_type": "execute_result"
    }
   ],
   "source": [
    "from functions import check_depths\n",
    "\n",
    "positive = check_depths(Ps, U)\n",
    "positive"
   ]
  },
  {
   "cell_type": "markdown",
   "id": "d2067c23",
   "metadata": {},
   "source": [
    "### Task 1.3:\n",
    "Make a function `reprojection_errors` that takes $N$ camera matrices, `Ps`, $N$ image points, `us`, and a 3D point, `U`, and computes a vector with the reprojection errors, that is, the lengths of the reprojection residuals. If a point has negative depth, set the reprojection error to `np.inf`. Place it in your `functions.py` file."
   ]
  },
  {
   "cell_type": "code",
   "execution_count": 7,
   "id": "b3594888",
   "metadata": {},
   "outputs": [],
   "source": [
    "def reprojection_errors(Ps, us, U):\n",
    "    \"\"\"\n",
    "    Ps: list of camera matrices (each 3x4 numpy array)\n",
    "    us: 2xN numpy array of image coordinates (each column is a point)\n",
    "    U: 3D point as a numpy array of shape (3,)\n",
    "    \n",
    "    Returns: Numpy array of reprojection errors (N,)\n",
    "    \"\"\"\n",
    "\n",
    "    # Your code here\n",
    "\n",
    "    return errors"
   ]
  },
  {
   "cell_type": "code",
   "execution_count": 8,
   "id": "fdff3044-ee66-4661-a2b7-4503714bc02a",
   "metadata": {},
   "outputs": [
    {
     "data": {
      "text/plain": [
       "array([0.10971567, 0.12055701])"
      ]
     },
     "execution_count": 8,
     "metadata": {},
     "output_type": "execute_result"
    }
   ],
   "source": [
    "from functions import reprojection_errors\n",
    "\n",
    "errors = reprojection_errors(Ps, us, U)\n",
    "errors"
   ]
  },
  {
   "cell_type": "markdown",
   "id": "d19dea62",
   "metadata": {},
   "source": [
    "### Task 1.4:\n",
    "Make a function `ransac_triangulation` that implements triangulation using RANSAC. Use the number of outliers as loss function. A measurement is deemed as an outlier if the depth is negative or if the reprojection error is larger than `threshold`. Place it in your `functions.py` file. "
   ]
  },
  {
   "cell_type": "code",
   "execution_count": 9,
   "id": "35a6f47c",
   "metadata": {},
   "outputs": [],
   "source": [
    "def ransac_triangulation(Ps, us, threshold):\n",
    "    \"\"\"\n",
    "    Ps: list of camera matrices (each 3x4)\n",
    "    us: 2xN numpy array of image coordinates\n",
    "    threshold: reprojection error threshold for inlier selection\n",
    "    \n",
    "    Returns:\n",
    "    - U: best estimated 3D point (3,)\n",
    "    - nbr_inliers: number of inliers for best estimate\n",
    "    \"\"\"\n",
    "\n",
    "    # Your code here\n",
    "\n",
    "    return best_U, nbr_inliers"
   ]
  },
  {
   "cell_type": "code",
   "execution_count": 10,
   "id": "60f269c3-a24b-45f6-8897-163252e93b74",
   "metadata": {},
   "outputs": [
    {
     "name": "stdout",
     "output_type": "stream",
     "text": [
      "U:\n",
      " [0.37404098 0.95064611 0.73447876]\n",
      "\n",
      "Number inliers: 2\n"
     ]
    }
   ],
   "source": [
    "from functions import ransac_triangulation\n",
    "\n",
    "threshold =  2\n",
    "[U, nbr_inliers] = ransac_triangulation(Ps, us, threshold) \n",
    "\n",
    "print(f\"U:\\n {U}\")\n",
    "print(f\"\\nNumber inliers: {nbr_inliers}\")"
   ]
  },
  {
   "cell_type": "markdown",
   "id": "61a3e2c4",
   "metadata": {},
   "source": [
    "### Task 1.5:\n",
    "In `sequence.mat` you find an array `triangulation_examples` with triangulation examples. Each example (3D point) has a list of camera matrices `Ps` and a 2 x N-array `us` with image points. Run ransac_triangulation for all (or at least 5000) of the examples. Store all triangulated points with at least two inliers and plot them using `scatter`. There will always be a few outliers among the estimated 3D points that make it harder to view the plot. You can use the provided function `clean_for_plot` to clean it up a bit. \n"
   ]
  },
  {
   "cell_type": "code",
   "execution_count": 11,
   "id": "2fa64714",
   "metadata": {},
   "outputs": [
    {
     "ename": "KeyboardInterrupt",
     "evalue": "",
     "output_type": "error",
     "traceback": [
      "\u001b[31m---------------------------------------------------------------------------\u001b[39m",
      "\u001b[31mKeyboardInterrupt\u001b[39m                         Traceback (most recent call last)",
      "\u001b[36mCell\u001b[39m\u001b[36m \u001b[39m\u001b[32mIn[11]\u001b[39m\u001b[32m, line 18\u001b[39m\n\u001b[32m     15\u001b[39m xs = example[\u001b[33m'\u001b[39m\u001b[33mxs\u001b[39m\u001b[33m'\u001b[39m]\n\u001b[32m     17\u001b[39m \u001b[38;5;66;03m# Your code here\u001b[39;00m\n\u001b[32m---> \u001b[39m\u001b[32m18\u001b[39m [U, nbr_inliers] = \u001b[43mransac_triangulation\u001b[49m\u001b[43m(\u001b[49m\u001b[43mPs\u001b[49m\u001b[43m,\u001b[49m\u001b[43m \u001b[49m\u001b[43mxs\u001b[49m\u001b[43m,\u001b[49m\u001b[43m \u001b[49m\u001b[43mthreshold\u001b[49m\u001b[43m)\u001b[49m\n\u001b[32m     19\u001b[39m \u001b[38;5;28;01mif\u001b[39;00m nbr_inliers >= \u001b[32m2\u001b[39m:\n\u001b[32m     20\u001b[39m     Us[:, i] = U\n",
      "\u001b[36mFile \u001b[39m\u001b[32m~/Documents/document/cth/assignments/SSY098-Image Ananlysis/lab_4/functions.py:110\u001b[39m, in \u001b[36mransac_triangulation\u001b[39m\u001b[34m(Ps, us, threshold)\u001b[39m\n\u001b[32m    106\u001b[39m shuffled_us = us[:, permutation]\n\u001b[32m    108\u001b[39m estimate_U = minimal_triangulation(shuffled_Ps[:\u001b[32m2\u001b[39m], shuffled_us[:, :\u001b[32m2\u001b[39m])\n\u001b[32m--> \u001b[39m\u001b[32m110\u001b[39m errors = \u001b[43mreprojection_errors\u001b[49m\u001b[43m(\u001b[49m\u001b[43mPs\u001b[49m\u001b[43m,\u001b[49m\u001b[43m \u001b[49m\u001b[43mus\u001b[49m\u001b[43m,\u001b[49m\u001b[43m \u001b[49m\u001b[43mestimate_U\u001b[49m\u001b[43m)\u001b[49m\n\u001b[32m    112\u001b[39m outlier = (errors > threshold) | np.isinf(errors)\n\u001b[32m    113\u001b[39m nbr_outlier = outlier.sum()\n",
      "\u001b[36mFile \u001b[39m\u001b[32m~/Documents/document/cth/assignments/SSY098-Image Ananlysis/lab_4/functions.py:81\u001b[39m, in \u001b[36mreprojection_errors\u001b[39m\u001b[34m(Ps, us, U)\u001b[39m\n\u001b[32m     79\u001b[39m         x_rep /= x_rep[\u001b[32m2\u001b[39m]\n\u001b[32m     80\u001b[39m         residuals = us[:, i] - x_rep[:\u001b[32m2\u001b[39m]\n\u001b[32m---> \u001b[39m\u001b[32m81\u001b[39m         errors.append(np.sqrt(\u001b[43mnp\u001b[49m\u001b[43m.\u001b[49m\u001b[43msum\u001b[49m\u001b[43m(\u001b[49m\u001b[43mresiduals\u001b[49m\u001b[43m \u001b[49m\u001b[43m*\u001b[49m\u001b[43m*\u001b[49m\u001b[43m \u001b[49m\u001b[32;43m2\u001b[39;49m\u001b[43m,\u001b[49m\u001b[43m \u001b[49m\u001b[43maxis\u001b[49m\u001b[43m=\u001b[49m\u001b[32;43m0\u001b[39;49m\u001b[43m)\u001b[49m))\n\u001b[32m     83\u001b[39m \u001b[38;5;28;01mreturn\u001b[39;00m np.array(errors)\n",
      "\u001b[36mFile \u001b[39m\u001b[32m/opt/anaconda3/envs/ssy098/lib/python3.11/site-packages/numpy/core/fromnumeric.py:2172\u001b[39m, in \u001b[36m_sum_dispatcher\u001b[39m\u001b[34m(a, axis, dtype, out, keepdims, initial, where)\u001b[39m\n\u001b[32m   2102\u001b[39m \u001b[38;5;250m    \u001b[39m\u001b[33;03m\"\"\"\u001b[39;00m\n\u001b[32m   2103\u001b[39m \u001b[33;03m    Clip (limit) the values in an array.\u001b[39;00m\n\u001b[32m   2104\u001b[39m \n\u001b[32m   (...)\u001b[39m\u001b[32m   2167\u001b[39m \n\u001b[32m   2168\u001b[39m \u001b[33;03m    \"\"\"\u001b[39;00m\n\u001b[32m   2169\u001b[39m     \u001b[38;5;28;01mreturn\u001b[39;00m _wrapfunc(a, \u001b[33m'\u001b[39m\u001b[33mclip\u001b[39m\u001b[33m'\u001b[39m, a_min, a_max, out=out, **kwargs)\n\u001b[32m-> \u001b[39m\u001b[32m2172\u001b[39m \u001b[38;5;28;01mdef\u001b[39;00m\u001b[38;5;250m \u001b[39m\u001b[34m_sum_dispatcher\u001b[39m(a, axis=\u001b[38;5;28;01mNone\u001b[39;00m, dtype=\u001b[38;5;28;01mNone\u001b[39;00m, out=\u001b[38;5;28;01mNone\u001b[39;00m, keepdims=\u001b[38;5;28;01mNone\u001b[39;00m,\n\u001b[32m   2173\u001b[39m                     initial=\u001b[38;5;28;01mNone\u001b[39;00m, where=\u001b[38;5;28;01mNone\u001b[39;00m):\n\u001b[32m   2174\u001b[39m     \u001b[38;5;28;01mreturn\u001b[39;00m (a, out)\n\u001b[32m   2177\u001b[39m \u001b[38;5;129m@array_function_dispatch\u001b[39m(_sum_dispatcher)\n\u001b[32m   2178\u001b[39m \u001b[38;5;28;01mdef\u001b[39;00m\u001b[38;5;250m \u001b[39m\u001b[34msum\u001b[39m(a, axis=\u001b[38;5;28;01mNone\u001b[39;00m, dtype=\u001b[38;5;28;01mNone\u001b[39;00m, out=\u001b[38;5;28;01mNone\u001b[39;00m, keepdims=np._NoValue,\n\u001b[32m   2179\u001b[39m         initial=np._NoValue, where=np._NoValue):\n",
      "\u001b[31mKeyboardInterrupt\u001b[39m: "
     ]
    }
   ],
   "source": [
    "from supplied import clean_for_plot, equal_aspect_ratio\n",
    "\n",
    "# Load data\n",
    "data = scipy.io.loadmat('data/sequence.mat')\n",
    "\n",
    "n_examples = 5000\n",
    "points3D = data['triangulation_examples'][0][:n_examples]\n",
    "\n",
    "threshold = 5\n",
    "Us = np.zeros((3, n_examples))\n",
    "\n",
    "for i in range(n_examples):\n",
    "    example = points3D[i]\n",
    "    Ps = [example['Ps'][0, j] for j in range(example['Ps'].shape[1])]\n",
    "    xs = example['xs']\n",
    "\n",
    "    # Your code here\n",
    "    [U, nbr_inliers] = ransac_triangulation(Ps, xs, threshold)\n",
    "    if nbr_inliers >= 2:\n",
    "        Us[:, i] = U\n",
    "\n",
    "# Plot triangulated points\n",
    "Uc, removed_indices = clean_for_plot(Us) \n",
    "\n",
    "# Create a 3D scatter plot\n",
    "fig = plt.figure()\n",
    "ax = fig.add_subplot(111, projection='3d')\n",
    "ax.scatter(Uc[0, :], Uc[1, :], Uc[2, :], marker='.')\n",
    "\n",
    "# Set axis equal for better scaling\n",
    "equal_aspect_ratio(ax)\n",
    "plt.show()"
   ]
  },
  {
   "cell_type": "markdown",
   "id": "e3629877",
   "metadata": {},
   "source": [
    "## Task 2: Least squares triangulation \n",
    "In this part of the lab you will solve the triangulation problem through least squares. Just as in the case of registration, the following pipeline is recommended: \n",
    "- Use RANSAC to obtain a rough estimate of the parameters ($U$). \n",
    "- Remove all measurements which are outliers with respect to these parameters. \n",
    "- Estimate the least squares parameters using the remaining measurements.\n",
    "\n",
    "Note that in this case a *measurement* is a pair consisting of an image point $u_i$ and a camera matrix $P_i$. Don’t forget that points with negative depths should be outliers. "
   ]
  },
  {
   "cell_type": "markdown",
   "id": "e5974074",
   "metadata": {},
   "source": [
    "### Task 2.1: \n",
    "Consider a camera matrix\n",
    "$$ P_i = \\begin{bmatrix}\n",
    "\\leftarrow a_i^T \\rightarrow \\\\\n",
    "\\leftarrow b_i^T \\rightarrow \\\\\n",
    "\\leftarrow c_i^T \\rightarrow\n",
    "\\end{bmatrix} , $$\n",
    "a 3D point $U$ and an image point $u_i$. Write the exact formula for the reprojection error $r_i(U)$ below."
   ]
  },
  {
   "cell_type": "markdown",
   "id": "aaaab8f8",
   "metadata": {},
   "source": [
    "**Your answer here:** $\\displaystyle \\min_{U}\\sum_{i}\\bigl\\lVert u_{i}-P_{i}\\,U \\bigr\\rVert^{2}$\n"
   ]
  },
  {
   "cell_type": "markdown",
   "id": "47ebd459",
   "metadata": {},
   "source": [
    "As you can see, the residuals are no longer linear, so computing a least squares solution will be significantly harder than in the previous lab. In fact, we cannot be sure to find the least squares solution. What we can do is to use local optimization to reduce the sum of squared residuals. We start at the solution produced by Ransac and use a few Gauss-Newton iterations.\n",
    "\n",
    "### Task 2.2:\n",
    "Make a function `compute_residuals` that takes an array `Ps` with $N$ cameras, a 2 x $N$ array `us` of image points and a 3 x 1 array `U`, and computes a 2$N$ x 1 array with all the reprojection residuals stacked into a single vector/array. A reprojection residual is a 2D vector corresponding to the difference between the original measurement and the projected point. The stacked vector is the $\\bar{r}$ from the lecture notes (page 99). Place it in your `functions.py` file."
   ]
  },
  {
   "cell_type": "code",
   "execution_count": null,
   "id": "da5fe7cf",
   "metadata": {},
   "outputs": [],
   "source": [
    "def compute_residuals(Ps, us, U):\n",
    "    \"\"\"\n",
    "    Ps: list of camera matrices (each 3x4 numpy array)\n",
    "    us: 2xN numpy array of observed image coordinates\n",
    "    U: 3D point as a numpy array of shape (3,)\n",
    "    \n",
    "    Returns:\n",
    "    - all_residuals: (2N,) numpy array of residuals (x and y reprojection errors)\n",
    "    \"\"\"\n",
    "\n",
    "    # Your code here\n",
    "\n",
    "    return all_residuals"
   ]
  },
  {
   "cell_type": "code",
   "execution_count": null,
   "id": "ac62b1be-02f9-43a6-850e-bd5616d3cdc6",
   "metadata": {},
   "outputs": [],
   "source": [
    "from functions import compute_residuals\n",
    "\n",
    "# Usage example for one 3D point\n",
    "index_point = 0\n",
    "example = points3D[index_point]\n",
    "Ps_example = [example['Ps'][0, j] for j in range(example['Ps'].shape[1])]\n",
    "xs_example = example['xs']\n",
    "U_example =  Us[:,index_point]\n",
    "\n",
    "all_residuals = compute_residuals(Ps_example, xs_example, U_example)\n",
    "all_residuals\n"
   ]
  },
  {
   "cell_type": "markdown",
   "id": "16f99efd",
   "metadata": {},
   "source": [
    "### Task 2.3:\n",
    "Find formulas for the partial derivatives in the Jacobian of $\\bar{r}$. The Jacobian should be a 2$N$ x 3- matrix. (Hint: you can start by finding the formula to the Jacobian of the i-th residual, which is a 2x3 matrix.) Please write down the exact formula and give a brief description about each variable that appears in the formula.   "
   ]
  },
  {
   "cell_type": "markdown",
   "id": "3d8ec3e5",
   "metadata": {},
   "source": [
    "**Your answer here:**"
   ]
  },
  {
   "cell_type": "markdown",
   "id": "b79d0540",
   "metadata": {},
   "source": [
    "### Task 2.4: \n",
    "Make a function `compute_jacobian`, that computes the Jacobian given a 3 x 1- vector `U` and a cell array of camera matrices `Ps`. Place it in your `functions.py` file."
   ]
  },
  {
   "cell_type": "code",
   "execution_count": null,
   "id": "2a94ca6f",
   "metadata": {},
   "outputs": [],
   "source": [
    "def compute_jacobian(Ps, U):\n",
    "    \"\"\"\n",
    "    Ps: list of camera matrices (each 3x4 numpy array)\n",
    "    U: 3D point as a numpy array of shape (3,)\n",
    "    \n",
    "    Returns:\n",
    "    - jacobian: (2N x 3) numpy array, Jacobian matrix of reprojection errors w.r.t. U\n",
    "    \"\"\"\n",
    "\n",
    "    # Your code here\n",
    "\n",
    "    return jacobian\n",
    "\n",
    "# Usage example\n",
    "all_residuals = compute_jacobian(Ps_example, U_example)"
   ]
  },
  {
   "cell_type": "code",
   "execution_count": null,
   "id": "774e8db2-6745-4f7b-bd68-58fe0b636b21",
   "metadata": {},
   "outputs": [],
   "source": [
    "from functions import compute_jacobian\n",
    "\n",
    "# Usage example\n",
    "all_residuals = compute_jacobian(Ps_example, U_example)"
   ]
  },
  {
   "cell_type": "markdown",
   "id": "ad570d40",
   "metadata": {},
   "source": [
    "### Task 2.5:\n",
    "Use the functions `compute_residuals` och `compute_jacobian` to make a function `refine_triangulation` that uses an approximate 3D point `Uhat` as a starting point for Gauss-Newton’s method. Use five GaussNewton iterations. Print the sum of squared residuals after each Gauss-Newton step to verify that it decreases. Place it in your `functions.py` file."
   ]
  },
  {
   "cell_type": "code",
   "execution_count": null,
   "id": "2eeb5350",
   "metadata": {},
   "outputs": [],
   "source": [
    "def refine_triangulation(Ps, us, Uhat, iterations=5):\n",
    "    \"\"\"\n",
    "    Refines a 3D point estimate using Gauss-Newton optimization.\n",
    "\n",
    "    Parameters:\n",
    "    - Ps: list of camera matrices (3x4 numpy arrays)\n",
    "    - us: 2xN numpy array of 2D image points\n",
    "    - Uhat: initial estimate of the 3D point (3,)\n",
    "    - iterations: number of Gauss-Newton iterations (default: 5)\n",
    "\n",
    "    Returns:\n",
    "    - U: refined 3D point (3,)\n",
    "    \"\"\"\n",
    "\n",
    "    # Your code here\n",
    "    \n",
    "    return U_temp"
   ]
  },
  {
   "cell_type": "code",
   "execution_count": null,
   "id": "d343fc56-9085-4dc3-b98a-b01b317f48a3",
   "metadata": {},
   "outputs": [],
   "source": [
    "from functions import refine_triangulation\n",
    "\n",
    "# Usage example\n",
    "Uref = refine_triangulation(Ps_example, xs_example, U_example)\n",
    "Uref"
   ]
  },
  {
   "cell_type": "markdown",
   "id": "8008b1d9",
   "metadata": {},
   "source": [
    "### Task 2.6: \n",
    "Try your refine_triangulation on the data in `gauss_newton.mat`. First we will plot the points given in Uhat, then refine each point using your function and plot the results using `scatter3`. You should see an improvement. "
   ]
  },
  {
   "cell_type": "code",
   "execution_count": null,
   "id": "5a91bad6",
   "metadata": {},
   "outputs": [],
   "source": [
    "# Load data\n",
    "data = scipy.io.loadmat('data/gauss_newton.mat')\n",
    "Uhat = data['Uhat']        # 3xN\n",
    "u = data['u']              # 2xN\n",
    "u_tilde = data['u_tilde']  # 2xN\n",
    "P = data['P']              # 3x4\n",
    "P_tilde = data['P_tilde']  # 3x4\n",
    "\n",
    "# Plot initial points\n",
    "fig = plt.figure(figsize=(10, 5))\n",
    "ax1 = fig.add_subplot(121, projection='3d')\n",
    "ax1.scatter(Uhat[0], Uhat[1], Uhat[2], c='blue', marker='.')\n",
    "ax1.set_title('Initial 3D Points (Uhat)')\n",
    "equal_aspect_ratio(ax1)\n",
    "\n",
    "# Refine each point\n",
    "N = Uhat.shape[1]\n",
    "Uref = np.zeros((3, N))\n",
    "Ps = [P, P_tilde]\n",
    "\n",
    "for i in range(N):\n",
    "    image_points = np.column_stack((u[:, i], u_tilde[:, i]))  # 2x2\n",
    "    Uref[:, i] = refine_triangulation(Ps, image_points, Uhat[:, i])"
   ]
  },
  {
   "cell_type": "code",
   "execution_count": null,
   "id": "957f1f44-0a1a-4c96-b469-152b7bd4cfee",
   "metadata": {},
   "outputs": [],
   "source": [
    "# Plot refined points\n",
    "ax2 = fig.add_subplot(122, projection='3d')\n",
    "ax2.scatter(Uref[0], Uref[1], Uref[2], c='green', marker='.')\n",
    "ax2.set_title('Refined 3D Points')\n",
    "\n",
    "# Set axis equal for better scaling\n",
    "equal_aspect_ratio(ax2)\n",
    "\n",
    "plt.tight_layout()\n",
    "plt.show()"
   ]
  },
  {
   "cell_type": "markdown",
   "id": "19fdda40",
   "metadata": {},
   "source": [
    "### Task 2.7: \n",
    "Compute the camera positions for the data in `gauss_newton.mat` and plot them together with the estimated 3D points. Try to understand why the noise in the estimated points looks as it does. "
   ]
  },
  {
   "cell_type": "code",
   "execution_count": null,
   "id": "70a178cf",
   "metadata": {},
   "outputs": [],
   "source": [
    "# Create 3D plot\n",
    "fig = plt.figure(figsize=(10, 7))\n",
    "ax = fig.add_subplot(111, projection='3d')\n",
    "\n",
    "# Plot refined 3D points (Uref)\n",
    "ax.scatter(Uref[0], Uref[1], Uref[2], c='blue', marker='.')\n",
    "\n",
    "# Compute camera positions, option 2\n",
    "num_cams = len(Ps)\n",
    "c = np.zeros((4, num_cams))\n",
    "v = np.zeros((3, num_cams))\n",
    "\n",
    "# Your code here\n",
    "\n",
    "# Plot camera centers and viewing directions\n",
    "ax.quiver(c[0, :], c[1, :], c[2, :],\n",
    "        v[0, :], v[1, :], v[2, :],\n",
    "        color='r', linewidth=1.5)\n",
    "\n",
    "# Set axis equal for better scaling\n",
    "equal_aspect_ratio(ax)\n",
    "\n",
    "# Show plot\n",
    "plt.show()\n"
   ]
  },
  {
   "cell_type": "code",
   "execution_count": null,
   "id": "45ed0773-f1d9-4e71-9be8-1075220abe6e",
   "metadata": {},
   "outputs": [],
   "source": []
  }
 ],
 "metadata": {
  "kernelspec": {
   "display_name": "Python 3 (ipykernel)",
   "language": "python",
   "name": "python3"
  },
  "language_info": {
   "codemirror_mode": {
    "name": "ipython",
    "version": 3
   },
   "file_extension": ".py",
   "mimetype": "text/x-python",
   "name": "python",
   "nbconvert_exporter": "python",
   "pygments_lexer": "ipython3",
   "version": "3.11.11"
  }
 },
 "nbformat": 4,
 "nbformat_minor": 5
}
